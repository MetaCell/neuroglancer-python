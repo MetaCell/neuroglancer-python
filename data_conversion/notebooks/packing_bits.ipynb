{
 "cells": [
  {
   "cell_type": "code",
   "execution_count": null,
   "id": "c7168e82-5dc5-4364-ac36-f84fe17d23da",
   "metadata": {},
   "outputs": [],
   "source": [
    "import numpy as np\n",
    "from math import ceil"
   ]
  },
  {
   "cell_type": "code",
   "execution_count": null,
   "id": "568a361d-5a82-44e1-b5b5-cc814ddf20a3",
   "metadata": {},
   "outputs": [],
   "source": [
    "def _pack_encoded_values(encoded_values: np.ndarray, encoded_bits: int) -> bytes:\n",
    "    \"\"\"\n",
    "    Pack the encoded values into 32bit unsigned integers\n",
    "    \n",
    "    To view the packed values as a numpy array, use the following:\n",
    "    np.frombuffer(packed_values, dtype=np.uint32).view(f\"u{encoded_bits}\")\n",
    "\n",
    "    Parameters\n",
    "    ----------\n",
    "    encoded_values : np.ndarray\n",
    "        The encoded values\n",
    "    encoded_bits : int\n",
    "        The number of bits used to encode the values\n",
    "    \n",
    "    Returns\n",
    "    -------\n",
    "    packed_values : bytes\n",
    "        The packed values\n",
    "    \"\"\"\n",
    "    if encoded_bits == 0:\n",
    "        return bytes()\n",
    "    values_per_uint32 = 32 // encoded_bits\n",
    "    number_of_values = ceil(len(encoded_values) / values_per_uint32)\n",
    "    padded_values = np.pad(\n",
    "        encoded_values,\n",
    "        (0, number_of_values * values_per_uint32 - len(encoded_values)),\n",
    "        \n",
    "    )\n",
    "    if encoded_bits == 1:\n",
    "        print(padded_values)\n",
    "        reshaped = padded_values.reshape((-1, 32)).astype(np.uint8)\n",
    "        print(reshaped)\n",
    "        return np.packbits(reshaped, bitorder=\"little\").tobytes()\n",
    "    # TODO implement other bit sizes\n",
    "    packed_values = 1   \n",
    "    return packed_values.tobytes()\n",
    "\n",
    "def _get_encoded_bits(unique_values: np.ndarray) -> int:\n",
    "    \"\"\"Return the number of bits needed to encode the given values\"\"\"\n",
    "    unique_values = unique_values.astype(np.uint32)\n",
    "    # TODO unsure if this is correct\n",
    "    if np.all(unique_values == 0):\n",
    "        return 0\n",
    "    bits = 1\n",
    "    while 2 ** bits < len(unique_values):\n",
    "        bits += 1\n",
    "    if bits > 32:\n",
    "        raise ValueError(\"Too many unique values in block\")\n",
    "    return bits"
   ]
  },
  {
   "cell_type": "code",
   "execution_count": null,
   "id": "4bceaa46-400d-4505-9185-a9fe9b75655b",
   "metadata": {},
   "outputs": [],
   "source": [
    "def _get_back_values(bytes_):\n",
    "    return np.frombuffer(bytes_, dtype=np.uint32).view(np.uint32)"
   ]
  },
  {
   "cell_type": "code",
   "execution_count": null,
   "id": "fb9ece58-93f6-4fce-915b-9ccf641e506d",
   "metadata": {},
   "outputs": [],
   "source": [
    "def _check_for_bin(arr):\n",
    "    return [bin(x + (1<<32))[-32:] for x in arr]"
   ]
  },
  {
   "cell_type": "code",
   "execution_count": null,
   "id": "8a5d2b61-5540-48c3-83a4-f8da77e02b00",
   "metadata": {},
   "outputs": [],
   "source": [
    "values = [1, 0, 0, 1]\n",
    "bits = _get_encoded_bits(np.array([10, 16]))\n",
    "print(bits)"
   ]
  },
  {
   "cell_type": "code",
   "execution_count": null,
   "id": "8f95301d-da32-4a73-8c7b-e2a5c4dfadb0",
   "metadata": {},
   "outputs": [],
   "source": [
    "a = _pack_encoded_values(values, bits)\n",
    "print(_get_back_values(a))"
   ]
  },
  {
   "cell_type": "code",
   "execution_count": null,
   "id": "04cbd076-6a64-44a4-a51b-bd3aafc5ac53",
   "metadata": {},
   "outputs": [],
   "source": [
    "arr = np.array([1,0,1,1,0,1,0,1,0,1,0,0,1,0,1,1,0,0,1,1,0,1,0,1,1,0,0,1,0,1,0,1, \n",
    "   1,0,0,1,1,0,1,0,1,1,0,0,1,1,1,0,0,1])\n",
    "b = _pack_encoded_values(arr, 1)\n",
    "print(b)\n",
    "print(_get_back_values(b))"
   ]
  },
  {
   "cell_type": "code",
   "execution_count": null,
   "id": "f2551f8f-1a85-44d1-9bf4-cadeeb2de728",
   "metadata": {},
   "outputs": [],
   "source": [
    "_check_for_bin(_get_back_values(b))"
   ]
  },
  {
   "cell_type": "code",
   "execution_count": null,
   "id": "22ce21b8-94de-452a-8168-1ebc214956be",
   "metadata": {},
   "outputs": [],
   "source": [
    "values = _get_back_values(b)\n",
    "bits = np.unpackbits(values.view(np.uint8), bitorder=\"little\")"
   ]
  },
  {
   "cell_type": "code",
   "execution_count": null,
   "id": "658b05a2-2dfe-4284-9b8f-6359eed03737",
   "metadata": {},
   "outputs": [],
   "source": [
    "assert(np.all(bits[:len(arr)] == arr))"
   ]
  }
 ],
 "metadata": {
  "kernelspec": {
   "display_name": "Python 3 (ipykernel)",
   "language": "python",
   "name": "python3"
  },
  "language_info": {
   "codemirror_mode": {
    "name": "ipython",
    "version": 3
   },
   "file_extension": ".py",
   "mimetype": "text/x-python",
   "name": "python",
   "nbconvert_exporter": "python",
   "pygments_lexer": "ipython3",
   "version": "3.10.12"
  }
 },
 "nbformat": 4,
 "nbformat_minor": 5
}
