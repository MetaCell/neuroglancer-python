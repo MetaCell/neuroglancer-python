{
 "cells": [
  {
   "cell_type": "code",
   "execution_count": null,
   "id": "92e0d084-0b54-4524-8c4b-69a9ca784072",
   "metadata": {},
   "outputs": [],
   "source": [
    "import dask.array as da\n",
    "from pathlib import Path\n",
    "from ome_zarr.io import parse_url\n",
    "from ome_zarr.reader import Reader"
   ]
  },
  {
   "cell_type": "code",
   "execution_count": null,
   "id": "706a7dbc-e23c-44a4-ac1f-535e32b2a28c",
   "metadata": {},
   "outputs": [],
   "source": [
    "base_directory = Path(\"/media/starfish/LargeSSD/data/cryoET/data/segmentation\")\n",
    "actin_filename = base_directory / \"00004_actin_ground_truth_zarr\"\n",
    "microtubules_filename = base_directory / \"00004_MT_ground_truth_zarr\""
   ]
  },
  {
   "cell_type": "code",
   "execution_count": null,
   "id": "4282aa3a-030e-46f5-8095-af9955652047",
   "metadata": {},
   "outputs": [],
   "source": [
    "def load_data(input_filepath: Path) -> da.Array:\n",
    "    \"\"\"Load the OME-Zarr data and return a dask array\"\"\"\n",
    "    url = parse_url(input_filepath)\n",
    "    reader = Reader(url)\n",
    "    nodes = list(reader())\n",
    "    image_node = nodes[0]\n",
    "    dask_data = image_node.data[0]\n",
    "    return dask_data.persist()"
   ]
  },
  {
   "cell_type": "code",
   "execution_count": null,
   "id": "d22e1c0e-8f6a-4500-afdd-19967320de26",
   "metadata": {},
   "outputs": [],
   "source": [
    "dask_data = load_data(actin_filename)"
   ]
  },
  {
   "cell_type": "code",
   "execution_count": null,
   "id": "5cf45ef9-63e4-4722-a8c4-1ef9b236cc98",
   "metadata": {},
   "outputs": [],
   "source": [
    "dask_data"
   ]
  },
  {
   "cell_type": "code",
   "execution_count": null,
   "id": "c1d2585b-33ba-4455-965b-154850bfb03a",
   "metadata": {},
   "outputs": [],
   "source": [
    "dask_data.blocks[0, 0, 0]"
   ]
  },
  {
   "cell_type": "code",
   "execution_count": null,
   "id": "8e3b9607-7b8e-4533-a453-c658b7b08cb9",
   "metadata": {},
   "outputs": [],
   "source": [
    "chunk_layout = dask_data.chunks"
   ]
  },
  {
   "cell_type": "code",
   "execution_count": null,
   "id": "6eece8d6-d45e-4e48-8cc7-8c9d8c91a299",
   "metadata": {},
   "outputs": [],
   "source": [
    "chunk_layout"
   ]
  },
  {
   "cell_type": "code",
   "execution_count": null,
   "id": "c9462c63-31fb-472d-96a5-9a0c10e80cb2",
   "metadata": {},
   "outputs": [],
   "source": [
    "def iterate_chunks(dask_data):\n",
    "    chunks = []\n",
    "    dimensions = []\n",
    "    chunk_layout = dask_data.chunks\n",
    "    for zi, z in enumerate(chunk_layout[0]):\n",
    "        for yi, y in enumerate(chunk_layout[1]):\n",
    "            for xi, x in enumerate(chunk_layout[2]):\n",
    "                chunk = dask_data.blocks[zi, yi, xi]\n",
    "                chunks.append(chunk) \n",
    "                dimensions.append((\n",
    "                    (sum(list(chunk_layout[0])[:zi]), sum(list(chunk_layout[1][:yi])), sum(list(chunk_layout[2][:xi]))),\n",
    "                    (sum(list(chunk_layout[0])[:zi+1]), sum(list(chunk_layout[1][:yi+1])), sum(list(chunk_layout[2][:xi+1])))\n",
    "                                 ))\n",
    "    return chunks, dimensions"
   ]
  },
  {
   "cell_type": "code",
   "execution_count": null,
   "id": "37712e86-004a-42d8-855d-80e099b325cf",
   "metadata": {},
   "outputs": [],
   "source": [
    "chunks, dimensions = iterate_chunks_r(dask_data)"
   ]
  },
  {
   "cell_type": "code",
   "execution_count": null,
   "id": "a397ff54-ac38-423b-ba02-90c4672c0a97",
   "metadata": {},
   "outputs": [],
   "source": [
    "for chunk, dimension in zip(chunks, dimensions):\n",
    "    print(chunk)\n",
    "    print(dimension)"
   ]
  },
  {
   "cell_type": "code",
   "execution_count": null,
   "id": "a4277c1d-8530-459d-9c19-ee69973a4013",
   "metadata": {},
   "outputs": [],
   "source": [
    "chunks[-1]"
   ]
  },
  {
   "cell_type": "code",
   "execution_count": null,
   "id": "39fb573c-dae7-4b15-aafd-92e9544a30cf",
   "metadata": {},
   "outputs": [],
   "source": [
    "def iterate_chunks_r(dask_data):\n",
    "    chunks = []\n",
    "    dimensions = []\n",
    "    chunk_layout = dask_data.chunks\n",
    "\n",
    "    for zi, z in enumerate(chunk_layout[0]):\n",
    "        for yi, y in enumerate(chunk_layout[1]):\n",
    "            for xi, x in enumerate(chunk_layout[2]):\n",
    "                chunk = dask_data.blocks[zi, yi, xi]\n",
    "                chunks.append(chunk)\n",
    "\n",
    "                # Calculate the chunk dimensions\n",
    "                start = (sum(chunk_layout[0][:zi]), sum(chunk_layout[1][:yi]), sum(chunk_layout[2][:xi]))\n",
    "                end = (start[0] + z, start[1] + y, start[2] + x)\n",
    "                dimensions.append((start, end))\n",
    "\n",
    "    return chunks, dimensions"
   ]
  }
 ],
 "metadata": {
  "kernelspec": {
   "display_name": "Python 3 (ipykernel)",
   "language": "python",
   "name": "python3"
  },
  "language_info": {
   "codemirror_mode": {
    "name": "ipython",
    "version": 3
   },
   "file_extension": ".py",
   "mimetype": "text/x-python",
   "name": "python",
   "nbconvert_exporter": "python",
   "pygments_lexer": "ipython3",
   "version": "3.10.12"
  }
 },
 "nbformat": 4,
 "nbformat_minor": 5
}
